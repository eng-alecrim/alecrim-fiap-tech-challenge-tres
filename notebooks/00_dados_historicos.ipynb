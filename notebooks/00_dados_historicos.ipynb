{
 "cells": [
  {
   "cell_type": "code",
   "execution_count": null,
   "metadata": {},
   "outputs": [],
   "source": [
    "from dotenv import find_dotenv, load_dotenv\n",
    "from gridstatusio import GridStatusClient\n",
    "\n",
    "from src.utils import get_path_projeto\n",
    "\n",
    "load_dotenv(dotenv_path=find_dotenv())"
   ]
  },
  {
   "cell_type": "markdown",
   "metadata": {},
   "source": [
    "Série temporal de um ano inteiro\n",
    "\n",
    "- Início: 2023-10-01\n",
    "- Fim: 2024-10-31"
   ]
  },
  {
   "cell_type": "code",
   "execution_count": null,
   "metadata": {},
   "outputs": [
    {
     "name": "stdout",
     "output_type": "stream",
     "text": [
      "> Consultando de 2023-11-01 a 2023-12-01\t\n",
      "> Salvo em: ./data/raw/2023-11.csv\n",
      "\n",
      "> Consultando de 2023-12-01 a 2024-01-01\t\n",
      "> Salvo em: ./data/raw/2023-12.csv\n",
      "\n",
      "> Consultando de 2024-01-01 a 2024-02-01\t\n",
      "> Salvo em: ./data/raw/2024-01.csv\n",
      "\n",
      "> Consultando de 2024-02-01 a 2024-03-01\t\n",
      "> Salvo em: ./data/raw/2024-02.csv\n",
      "\n",
      "> Consultando de 2024-03-01 a 2024-04-01\t\n",
      "> Salvo em: ./data/raw/2024-03.csv\n",
      "\n",
      "> Consultando de 2024-04-01 a 2024-05-01\t\n",
      "> Salvo em: ./data/raw/2024-04.csv\n",
      "\n",
      "> Consultando de 2024-05-01 a 2024-06-01\t\n",
      "> Salvo em: ./data/raw/2024-05.csv\n",
      "\n",
      "> Consultando de 2024-06-01 a 2024-07-01\t\n",
      "> Salvo em: ./data/raw/2024-06.csv\n",
      "\n",
      "> Consultando de 2024-07-01 a 2024-08-01\t\n",
      "> Salvo em: ./data/raw/2024-07.csv\n",
      "\n",
      "> Consultando de 2024-08-01 a 2024-09-01\t\n",
      "> Salvo em: ./data/raw/2024-08.csv\n",
      "\n",
      "> Consultando de 2024-09-01 a 2024-10-01\t\n",
      "> Salvo em: ./data/raw/2024-09.csv\n",
      "\n",
      "> Consultando de 2024-10-01 a 2024-11-01\t\n",
      "> Salvo em: ./data/raw/2024-10.csv\n",
      "\n"
     ]
    }
   ],
   "source": [
    "dir_projeto = get_path_projeto()\n",
    "\n",
    "grid_client = GridStatusClient()\n",
    "QUERY_LIMIT = 10_000\n",
    "\n",
    "for ano in range(2023, 2025):\n",
    "    for mes in range(1, 13):\n",
    "        if ano == 2023 and mes < 11:\n",
    "            continue\n",
    "        if ano == 2024 and mes > 10:\n",
    "            break\n",
    "        if mes == 12:\n",
    "            start = f\"{ano}-{mes:02d}-01\"\n",
    "            end = f\"{ano + 1}-01-01\"\n",
    "        else:\n",
    "            start = f\"{ano}-{mes:02d}-01\"\n",
    "            end = f\"{ano}-{mes + 1:02d}-01\"\n",
    "        print(f\"> Consultando de {start} a {end}\\t\")\n",
    "        data = grid_client.get_dataset(\n",
    "            dataset=\"caiso_fuel_mix\",\n",
    "            start=start,\n",
    "            end=end,\n",
    "            tz=\"America/Sao_Paulo\",\n",
    "            limit=QUERY_LIMIT,\n",
    "        )\n",
    "        caminho_destino = dir_projeto / f\"data/raw/{ano}-{mes:02d}.csv\"\n",
    "        data.to_csv(caminho_destino, sep=\"\\t\", encoding=\"utf-8\", index=False)\n",
    "        print(f\"> Salvo em: {caminho_destino}\")"
   ]
  }
 ],
 "metadata": {
  "kernelspec": {
   "display_name": "Python 3",
   "language": "python",
   "name": "python3"
  },
  "language_info": {
   "codemirror_mode": {
    "name": "ipython",
    "version": 3
   },
   "file_extension": ".py",
   "mimetype": "text/x-python",
   "name": "python",
   "nbconvert_exporter": "python",
   "pygments_lexer": "ipython3",
   "version": "3.12.7"
  }
 },
 "nbformat": 4,
 "nbformat_minor": 2
}
